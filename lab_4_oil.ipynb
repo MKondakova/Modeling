{
 "cells": [
  {
   "cell_type": "markdown",
   "source": [
    "# Custom preprocessing"
   ],
   "metadata": {
    "collapsed": false,
    "pycharm": {
     "name": "#%% md\n"
    }
   }
  },
  {
   "cell_type": "code",
   "execution_count": 132,
   "outputs": [
    {
     "data": {
      "text/plain": "       id         f0         f1        f2     product\n0   kBEdx -15.001348  -8.276000 -0.005876    3.179103\n1   62mP7  14.272088  -3.475083  0.999183   26.953261\n2   vyE1P   6.263187  -5.948386  5.001160  134.766305\n3   KcrkZ -13.081196 -11.506057  4.999415  137.945408\n4   AHL4O  12.702195  -8.147433  5.004363  134.766305\n5   HHckp  -3.327590  -2.205276  3.003647   84.038886\n6   h5Ujo -11.142655 -10.133399  4.002382  110.992147\n7   muH9x   4.234715  -0.001354  2.004588   53.906522\n8   YiRkx  13.355129  -0.332068  4.998647  134.766305\n9   jG6Gi   1.069227 -11.025667  4.997844  137.945408\n10  7uHUe  11.777049  -5.334084  2.003033   53.906522\n11  OXyvW  16.320755  -0.562946 -0.001783    0.000000\n12  cB8re   7.736313  -6.093374  3.982531  107.813044\n13  igmai   6.695604  -0.749449 -0.007630    0.000000\n14  3OdkE -10.985487  -5.605994  2.991130   84.038886\n15  3tVUO  -0.347599  -6.275884 -0.003448    3.179103\n16  siveY  12.300570   2.944454  2.005541   53.906522\n17  gIqzq   8.900460  -5.632857  4.994324  134.766305\n18  zO5EU -13.412826  -4.729495  2.998590   84.038886\n19  dkcEb  -4.373526  -8.590017  2.995379   84.038886\n20  X1FZJ  -5.729511  -1.861370  3.993732  110.992147\n21  eVFPS   2.195392  -3.829295  4.993895  134.766305\n22  TovFu   9.391662   2.386681  5.002290  134.766305\n23  KQxAV  10.852199  -3.412277  4.996318  134.766305\n24  II0xj   2.581392  -2.691426  2.004898   53.906522\n25  AOrbK   2.338888  -8.508383  2.008130   57.085625\n26  DbtST  -0.524255  -4.685527  4.002212  110.992147\n27  mqtSN   8.921872  -2.863219  0.993312   26.953261\n28  dqN1d  10.373859   1.145210  4.000138  107.813044\n29  JPiGi -10.926274  -4.017907  0.005142    3.179103\n30  YVVPX  11.726927  -4.285120  1.003547   26.953261\n31  4NJv3  -7.736177  -4.857165  2.995679   84.038886\n32  2DKVI  10.209863 -13.659814  5.000668  137.945408\n33  M57PU  -2.286528 -12.063964  2.007202   57.085625\n34  5O3Zt  -4.792992  -7.569682  1.004281   30.132364\n35  BZWmy   0.695137 -10.214670  2.004539   53.906522\n36  aArVp   5.897063  -5.249982  2.994434   80.859783\n37  EHH3V  -4.302352  -1.846049  4.000282  110.992147\n38  fNWXc  -5.769301  -5.648602  4.000441  110.992147\n39  957X9   6.037017   2.572420  2.001547   53.963547",
      "text/html": "<div>\n<style scoped>\n    .dataframe tbody tr th:only-of-type {\n        vertical-align: middle;\n    }\n\n    .dataframe tbody tr th {\n        vertical-align: top;\n    }\n\n    .dataframe thead th {\n        text-align: right;\n    }\n</style>\n<table border=\"1\" class=\"dataframe\">\n  <thead>\n    <tr style=\"text-align: right;\">\n      <th></th>\n      <th>id</th>\n      <th>f0</th>\n      <th>f1</th>\n      <th>f2</th>\n      <th>product</th>\n    </tr>\n  </thead>\n  <tbody>\n    <tr>\n      <th>0</th>\n      <td>kBEdx</td>\n      <td>-15.001348</td>\n      <td>-8.276000</td>\n      <td>-0.005876</td>\n      <td>3.179103</td>\n    </tr>\n    <tr>\n      <th>1</th>\n      <td>62mP7</td>\n      <td>14.272088</td>\n      <td>-3.475083</td>\n      <td>0.999183</td>\n      <td>26.953261</td>\n    </tr>\n    <tr>\n      <th>2</th>\n      <td>vyE1P</td>\n      <td>6.263187</td>\n      <td>-5.948386</td>\n      <td>5.001160</td>\n      <td>134.766305</td>\n    </tr>\n    <tr>\n      <th>3</th>\n      <td>KcrkZ</td>\n      <td>-13.081196</td>\n      <td>-11.506057</td>\n      <td>4.999415</td>\n      <td>137.945408</td>\n    </tr>\n    <tr>\n      <th>4</th>\n      <td>AHL4O</td>\n      <td>12.702195</td>\n      <td>-8.147433</td>\n      <td>5.004363</td>\n      <td>134.766305</td>\n    </tr>\n    <tr>\n      <th>5</th>\n      <td>HHckp</td>\n      <td>-3.327590</td>\n      <td>-2.205276</td>\n      <td>3.003647</td>\n      <td>84.038886</td>\n    </tr>\n    <tr>\n      <th>6</th>\n      <td>h5Ujo</td>\n      <td>-11.142655</td>\n      <td>-10.133399</td>\n      <td>4.002382</td>\n      <td>110.992147</td>\n    </tr>\n    <tr>\n      <th>7</th>\n      <td>muH9x</td>\n      <td>4.234715</td>\n      <td>-0.001354</td>\n      <td>2.004588</td>\n      <td>53.906522</td>\n    </tr>\n    <tr>\n      <th>8</th>\n      <td>YiRkx</td>\n      <td>13.355129</td>\n      <td>-0.332068</td>\n      <td>4.998647</td>\n      <td>134.766305</td>\n    </tr>\n    <tr>\n      <th>9</th>\n      <td>jG6Gi</td>\n      <td>1.069227</td>\n      <td>-11.025667</td>\n      <td>4.997844</td>\n      <td>137.945408</td>\n    </tr>\n    <tr>\n      <th>10</th>\n      <td>7uHUe</td>\n      <td>11.777049</td>\n      <td>-5.334084</td>\n      <td>2.003033</td>\n      <td>53.906522</td>\n    </tr>\n    <tr>\n      <th>11</th>\n      <td>OXyvW</td>\n      <td>16.320755</td>\n      <td>-0.562946</td>\n      <td>-0.001783</td>\n      <td>0.000000</td>\n    </tr>\n    <tr>\n      <th>12</th>\n      <td>cB8re</td>\n      <td>7.736313</td>\n      <td>-6.093374</td>\n      <td>3.982531</td>\n      <td>107.813044</td>\n    </tr>\n    <tr>\n      <th>13</th>\n      <td>igmai</td>\n      <td>6.695604</td>\n      <td>-0.749449</td>\n      <td>-0.007630</td>\n      <td>0.000000</td>\n    </tr>\n    <tr>\n      <th>14</th>\n      <td>3OdkE</td>\n      <td>-10.985487</td>\n      <td>-5.605994</td>\n      <td>2.991130</td>\n      <td>84.038886</td>\n    </tr>\n    <tr>\n      <th>15</th>\n      <td>3tVUO</td>\n      <td>-0.347599</td>\n      <td>-6.275884</td>\n      <td>-0.003448</td>\n      <td>3.179103</td>\n    </tr>\n    <tr>\n      <th>16</th>\n      <td>siveY</td>\n      <td>12.300570</td>\n      <td>2.944454</td>\n      <td>2.005541</td>\n      <td>53.906522</td>\n    </tr>\n    <tr>\n      <th>17</th>\n      <td>gIqzq</td>\n      <td>8.900460</td>\n      <td>-5.632857</td>\n      <td>4.994324</td>\n      <td>134.766305</td>\n    </tr>\n    <tr>\n      <th>18</th>\n      <td>zO5EU</td>\n      <td>-13.412826</td>\n      <td>-4.729495</td>\n      <td>2.998590</td>\n      <td>84.038886</td>\n    </tr>\n    <tr>\n      <th>19</th>\n      <td>dkcEb</td>\n      <td>-4.373526</td>\n      <td>-8.590017</td>\n      <td>2.995379</td>\n      <td>84.038886</td>\n    </tr>\n    <tr>\n      <th>20</th>\n      <td>X1FZJ</td>\n      <td>-5.729511</td>\n      <td>-1.861370</td>\n      <td>3.993732</td>\n      <td>110.992147</td>\n    </tr>\n    <tr>\n      <th>21</th>\n      <td>eVFPS</td>\n      <td>2.195392</td>\n      <td>-3.829295</td>\n      <td>4.993895</td>\n      <td>134.766305</td>\n    </tr>\n    <tr>\n      <th>22</th>\n      <td>TovFu</td>\n      <td>9.391662</td>\n      <td>2.386681</td>\n      <td>5.002290</td>\n      <td>134.766305</td>\n    </tr>\n    <tr>\n      <th>23</th>\n      <td>KQxAV</td>\n      <td>10.852199</td>\n      <td>-3.412277</td>\n      <td>4.996318</td>\n      <td>134.766305</td>\n    </tr>\n    <tr>\n      <th>24</th>\n      <td>II0xj</td>\n      <td>2.581392</td>\n      <td>-2.691426</td>\n      <td>2.004898</td>\n      <td>53.906522</td>\n    </tr>\n    <tr>\n      <th>25</th>\n      <td>AOrbK</td>\n      <td>2.338888</td>\n      <td>-8.508383</td>\n      <td>2.008130</td>\n      <td>57.085625</td>\n    </tr>\n    <tr>\n      <th>26</th>\n      <td>DbtST</td>\n      <td>-0.524255</td>\n      <td>-4.685527</td>\n      <td>4.002212</td>\n      <td>110.992147</td>\n    </tr>\n    <tr>\n      <th>27</th>\n      <td>mqtSN</td>\n      <td>8.921872</td>\n      <td>-2.863219</td>\n      <td>0.993312</td>\n      <td>26.953261</td>\n    </tr>\n    <tr>\n      <th>28</th>\n      <td>dqN1d</td>\n      <td>10.373859</td>\n      <td>1.145210</td>\n      <td>4.000138</td>\n      <td>107.813044</td>\n    </tr>\n    <tr>\n      <th>29</th>\n      <td>JPiGi</td>\n      <td>-10.926274</td>\n      <td>-4.017907</td>\n      <td>0.005142</td>\n      <td>3.179103</td>\n    </tr>\n    <tr>\n      <th>30</th>\n      <td>YVVPX</td>\n      <td>11.726927</td>\n      <td>-4.285120</td>\n      <td>1.003547</td>\n      <td>26.953261</td>\n    </tr>\n    <tr>\n      <th>31</th>\n      <td>4NJv3</td>\n      <td>-7.736177</td>\n      <td>-4.857165</td>\n      <td>2.995679</td>\n      <td>84.038886</td>\n    </tr>\n    <tr>\n      <th>32</th>\n      <td>2DKVI</td>\n      <td>10.209863</td>\n      <td>-13.659814</td>\n      <td>5.000668</td>\n      <td>137.945408</td>\n    </tr>\n    <tr>\n      <th>33</th>\n      <td>M57PU</td>\n      <td>-2.286528</td>\n      <td>-12.063964</td>\n      <td>2.007202</td>\n      <td>57.085625</td>\n    </tr>\n    <tr>\n      <th>34</th>\n      <td>5O3Zt</td>\n      <td>-4.792992</td>\n      <td>-7.569682</td>\n      <td>1.004281</td>\n      <td>30.132364</td>\n    </tr>\n    <tr>\n      <th>35</th>\n      <td>BZWmy</td>\n      <td>0.695137</td>\n      <td>-10.214670</td>\n      <td>2.004539</td>\n      <td>53.906522</td>\n    </tr>\n    <tr>\n      <th>36</th>\n      <td>aArVp</td>\n      <td>5.897063</td>\n      <td>-5.249982</td>\n      <td>2.994434</td>\n      <td>80.859783</td>\n    </tr>\n    <tr>\n      <th>37</th>\n      <td>EHH3V</td>\n      <td>-4.302352</td>\n      <td>-1.846049</td>\n      <td>4.000282</td>\n      <td>110.992147</td>\n    </tr>\n    <tr>\n      <th>38</th>\n      <td>fNWXc</td>\n      <td>-5.769301</td>\n      <td>-5.648602</td>\n      <td>4.000441</td>\n      <td>110.992147</td>\n    </tr>\n    <tr>\n      <th>39</th>\n      <td>957X9</td>\n      <td>6.037017</td>\n      <td>2.572420</td>\n      <td>2.001547</td>\n      <td>53.963547</td>\n    </tr>\n  </tbody>\n</table>\n</div>"
     },
     "execution_count": 132,
     "metadata": {},
     "output_type": "execute_result"
    }
   ],
   "source": [
    "import pandas as pd\n",
    "import numpy as np\n",
    "from matplotlib import pyplot as plt\n",
    "import math\n",
    "df = pd.read_csv(\"C:\\\\Users\\\\milan\\\\Documents\\\\BMSTU\\\\Modeling\\\\lab_4_place1_train.csv\")\n",
    "df"
   ],
   "metadata": {
    "collapsed": false,
    "pycharm": {
     "name": "#%%\n"
    }
   }
  },
  {
   "cell_type": "code",
   "execution_count": 133,
   "outputs": [],
   "source": [
    "\n",
    "def get_mean(data):\n",
    "    return sum(data)/len(data)\n",
    "\n",
    "def get_variance(data):\n",
    "    mean = get_mean(data)\n",
    "    n = len(data)\n",
    "    variance = 0\n",
    "    for i in data:\n",
    "        variance += (i - mean)**2\n",
    "    variance = variance/(n-1)\n",
    "    return variance\n",
    "\n",
    "def get_std(data):\n",
    "    return math.sqrt(get_variance(data))\n",
    "\n",
    "def get_quantile(data, probability):\n",
    "    k = int(probability * (len(data) - 1))\n",
    "    alpha = probability * len(data)\n",
    "    sorted_data = sorted(data)\n",
    "    sorted_data.append(sorted_data[len(data) - 1])\n",
    "    if k + 1 < alpha:\n",
    "        return sorted_data[k + 1]\n",
    "    elif k + 1 == alpha:\n",
    "        return (sorted_data[k] + sorted_data[k + 1]) / 2\n",
    "    else:\n",
    "        return sorted_data[k]\n",
    "\n",
    "def get_description(data, rows):\n",
    "    info = {}\n",
    "\n",
    "    for row in rows:\n",
    "        info[row] = []\n",
    "        q25 = get_quantile(data[row], 0.25)\n",
    "        q75 = get_quantile(data[row], 0.75)\n",
    "        info[row].append(q25)\n",
    "        info[row].append(get_quantile(data[row], 0.5))\n",
    "        info[row].append(q75)\n",
    "        info[row].append(q75-q25)\n",
    "        info[row].append(get_variance(df['product']))\n",
    "        info[row].append(get_mean(df['product']))\n",
    "    return pd.DataFrame(info, index=['0.25',\n",
    "                                   '0.5',\n",
    "                                   '0.75', 'interquartile range', 'variance', 'mean'])\n",
    "\n",
    "def get_correlation(df, fields, targets):\n",
    "    info = {}\n",
    "\n",
    "    for i in fields:\n",
    "        info[i] = []\n",
    "        mean_i = get_mean(df[i])\n",
    "        for j in targets:\n",
    "            mean_j = get_mean(df[j])\n",
    "            a1 = 0\n",
    "            for k in range(len(df[i])):\n",
    "                a1 += (df[i][k] - mean_i) * (df[j][k] - mean_j)\n",
    "            b1 = 0\n",
    "            for k in df[i]:\n",
    "                b1 += (k - mean_i)**2\n",
    "            b2 = 0\n",
    "            for k in df[j]:\n",
    "                b2 += (k - mean_j)**2\n",
    "            info[i].append(a1/math.sqrt(b1*b2))\n",
    "\n",
    "    return pd.DataFrame(info, index=targets)\n",
    "\n",
    "\n",
    "\n",
    "\n",
    "def plot_field(df, field):\n",
    "    mean_value = get_mean(df[field])\n",
    "    std = get_std(df[field])\n",
    "    df.hist(column=field, bins=39)\n",
    "    plt.axvline(mean_value, color='g', linestyle='dashed', linewidth=2)\n",
    "    plt.axvline(mean_value - 2.5 * std, color='r', linestyle='dashed', linewidth=2)\n",
    "    plt.axvline(mean_value + 2.5 * std, color='r', linestyle='dashed', linewidth=2)\n",
    "    plt.show()\n",
    "\n",
    "def plot_correlation(df, field1, field2):\n",
    "    plt.xlabel(field1)\n",
    "    plt.ylabel(field2)\n",
    "    plt.scatter(df[field1], df[field2])\n",
    "    plt.show()"
   ],
   "metadata": {
    "collapsed": false,
    "pycharm": {
     "name": "#%%\n"
    }
   }
  },
  {
   "cell_type": "code",
   "execution_count": 134,
   "outputs": [
    {
     "data": {
      "text/plain": "<Figure size 432x288 with 1 Axes>",
      "image/png": "[encoded data removed]"
     },
     "metadata": {
      "needs_background": "light"
     },
     "output_type": "display_data"
    },
    {
     "data": {
      "text/plain": "<Figure size 432x288 with 1 Axes>",
      "image/png": "[encoded data removed]"
     },
     "metadata": {
      "needs_background": "light"
     },
     "output_type": "display_data"
    },
    {
     "data": {
      "text/plain": "<Figure size 432x288 with 1 Axes>",
      "image/png": "[encoded data removed]"
     },
     "metadata": {
      "needs_background": "light"
     },
     "output_type": "display_data"
    },
    {
     "data": {
      "text/plain": "<Figure size 432x288 with 1 Axes>",
      "image/png": "[encoded data removed]"
     },
     "metadata": {
      "needs_background": "light"
     },
     "output_type": "display_data"
    }
   ],
   "source": [
    "plot_field(df, 'f0')\n",
    "plot_field(df, 'f1')\n",
    "plot_field(df, 'f2')\n",
    "plot_field(df, 'product')"
   ],
   "metadata": {
    "collapsed": false,
    "pycharm": {
     "name": "#%%\n"
    }
   }
  },
  {
   "cell_type": "code",
   "execution_count": 135,
   "outputs": [
    {
     "data": {
      "text/plain": "                              f0           f1           f2      product\n0.25                   -4.583259    -7.858557     2.002290    53.906522\n0.5                     2.460140    -4.793330     2.995529    84.038886\n0.75                    9.800763    -2.033323     4.498138   122.879226\ninterquartile range    14.384022     5.825234     2.495848    68.972704\nvariance             2155.426415  2155.426415  2155.426415  2155.426415\nmean                   79.675956    79.675956    79.675956    79.675956",
      "text/html": "<div>\n<style scoped>\n    .dataframe tbody tr th:only-of-type {\n        vertical-align: middle;\n    }\n\n    .dataframe tbody tr th {\n        vertical-align: top;\n    }\n\n    .dataframe thead th {\n        text-align: right;\n    }\n</style>\n<table border=\"1\" class=\"dataframe\">\n  <thead>\n    <tr style=\"text-align: right;\">\n      <th></th>\n      <th>f0</th>\n      <th>f1</th>\n      <th>f2</th>\n      <th>product</th>\n    </tr>\n  </thead>\n  <tbody>\n    <tr>\n      <th>0.25</th>\n      <td>-4.583259</td>\n      <td>-7.858557</td>\n      <td>2.002290</td>\n      <td>53.906522</td>\n    </tr>\n    <tr>\n      <th>0.5</th>\n      <td>2.460140</td>\n      <td>-4.793330</td>\n      <td>2.995529</td>\n      <td>84.038886</td>\n    </tr>\n    <tr>\n      <th>0.75</th>\n      <td>9.800763</td>\n      <td>-2.033323</td>\n      <td>4.498138</td>\n      <td>122.879226</td>\n    </tr>\n    <tr>\n      <th>interquartile range</th>\n      <td>14.384022</td>\n      <td>5.825234</td>\n      <td>2.495848</td>\n      <td>68.972704</td>\n    </tr>\n    <tr>\n      <th>variance</th>\n      <td>2155.426415</td>\n      <td>2155.426415</td>\n      <td>2155.426415</td>\n      <td>2155.426415</td>\n    </tr>\n    <tr>\n      <th>mean</th>\n      <td>79.675956</td>\n      <td>79.675956</td>\n      <td>79.675956</td>\n      <td>79.675956</td>\n    </tr>\n  </tbody>\n</table>\n</div>"
     },
     "execution_count": 135,
     "metadata": {},
     "output_type": "execute_result"
    }
   ],
   "source": [
    "get_description(df, ['f0', 'f1', 'f2', 'product'])"
   ],
   "metadata": {
    "collapsed": false,
    "pycharm": {
     "name": "#%%\n"
    }
   }
  },
  {
   "cell_type": "code",
   "execution_count": 136,
   "outputs": [
    {
     "data": {
      "text/plain": "<Figure size 432x288 with 1 Axes>",
      "image/png": "[encoded data removed]"
     },
     "metadata": {
      "needs_background": "light"
     },
     "output_type": "display_data"
    },
    {
     "data": {
      "text/plain": "<Figure size 432x288 with 1 Axes>",
      "image/png": "[encoded data removed]"
     },
     "metadata": {
      "needs_background": "light"
     },
     "output_type": "display_data"
    },
    {
     "data": {
      "text/plain": "<Figure size 432x288 with 1 Axes>",
      "image/png": "[encoded data removed]"
     },
     "metadata": {
      "needs_background": "light"
     },
     "output_type": "display_data"
    }
   ],
   "source": [
    "plot_correlation(df, 'product', 'f0')\n",
    "plot_correlation(df, 'product', 'f1')\n",
    "plot_correlation(df, 'product', 'f2')\n"
   ],
   "metadata": {
    "collapsed": false,
    "pycharm": {
     "name": "#%%\n"
    }
   }
  },
  {
   "cell_type": "code",
   "execution_count": 137,
   "outputs": [
    {
     "data": {
      "text/plain": "               f0        f1        f2\nproduct  0.030459 -0.167566  0.999405",
      "text/html": "<div>\n<style scoped>\n    .dataframe tbody tr th:only-of-type {\n        vertical-align: middle;\n    }\n\n    .dataframe tbody tr th {\n        vertical-align: top;\n    }\n\n    .dataframe thead th {\n        text-align: right;\n    }\n</style>\n<table border=\"1\" class=\"dataframe\">\n  <thead>\n    <tr style=\"text-align: right;\">\n      <th></th>\n      <th>f0</th>\n      <th>f1</th>\n      <th>f2</th>\n    </tr>\n  </thead>\n  <tbody>\n    <tr>\n      <th>product</th>\n      <td>0.030459</td>\n      <td>-0.167566</td>\n      <td>0.999405</td>\n    </tr>\n  </tbody>\n</table>\n</div>"
     },
     "execution_count": 137,
     "metadata": {},
     "output_type": "execute_result"
    }
   ],
   "source": [
    "get_correlation(df, ['f0', 'f1', 'f2'], ['product'])\n"
   ],
   "metadata": {
    "collapsed": false,
    "pycharm": {
     "name": "#%%\n"
    }
   }
  },
  {
   "cell_type": "markdown",
   "source": [
    "# Preprocessing with Pandas"
   ],
   "metadata": {
    "collapsed": false,
    "pycharm": {
     "name": "#%% md\n"
    }
   }
  },
  {
   "cell_type": "code",
   "execution_count": 138,
   "outputs": [
    {
     "data": {
      "text/plain": "      id         f0         f1        f2     product\n0  kBEdx -15.001348  -8.276000 -0.005876    3.179103\n1  62mP7  14.272088  -3.475083  0.999183   26.953261\n2  vyE1P   6.263187  -5.948386  5.001160  134.766305\n3  KcrkZ -13.081196 -11.506057  4.999415  137.945408\n4  AHL4O  12.702195  -8.147433  5.004363  134.766305",
      "text/html": "<div>\n<style scoped>\n    .dataframe tbody tr th:only-of-type {\n        vertical-align: middle;\n    }\n\n    .dataframe tbody tr th {\n        vertical-align: top;\n    }\n\n    .dataframe thead th {\n        text-align: right;\n    }\n</style>\n<table border=\"1\" class=\"dataframe\">\n  <thead>\n    <tr style=\"text-align: right;\">\n      <th></th>\n      <th>id</th>\n      <th>f0</th>\n      <th>f1</th>\n      <th>f2</th>\n      <th>product</th>\n    </tr>\n  </thead>\n  <tbody>\n    <tr>\n      <th>0</th>\n      <td>kBEdx</td>\n      <td>-15.001348</td>\n      <td>-8.276000</td>\n      <td>-0.005876</td>\n      <td>3.179103</td>\n    </tr>\n    <tr>\n      <th>1</th>\n      <td>62mP7</td>\n      <td>14.272088</td>\n      <td>-3.475083</td>\n      <td>0.999183</td>\n      <td>26.953261</td>\n    </tr>\n    <tr>\n      <th>2</th>\n      <td>vyE1P</td>\n      <td>6.263187</td>\n      <td>-5.948386</td>\n      <td>5.001160</td>\n      <td>134.766305</td>\n    </tr>\n    <tr>\n      <th>3</th>\n      <td>KcrkZ</td>\n      <td>-13.081196</td>\n      <td>-11.506057</td>\n      <td>4.999415</td>\n      <td>137.945408</td>\n    </tr>\n    <tr>\n      <th>4</th>\n      <td>AHL4O</td>\n      <td>12.702195</td>\n      <td>-8.147433</td>\n      <td>5.004363</td>\n      <td>134.766305</td>\n    </tr>\n  </tbody>\n</table>\n</div>"
     },
     "execution_count": 138,
     "metadata": {},
     "output_type": "execute_result"
    }
   ],
   "source": [
    "df.head()"
   ],
   "metadata": {
    "collapsed": false,
    "pycharm": {
     "name": "#%%\n"
    }
   }
  },
  {
   "cell_type": "code",
   "execution_count": 139,
   "outputs": [
    {
     "name": "stdout",
     "output_type": "stream",
     "text": [
      "<class 'pandas.core.frame.DataFrame'>\n",
      "RangeIndex: 40 entries, 0 to 39\n",
      "Data columns (total 5 columns):\n",
      " #   Column   Non-Null Count  Dtype  \n",
      "---  ------   --------------  -----  \n",
      " 0   id       40 non-null     object \n",
      " 1   f0       40 non-null     float64\n",
      " 2   f1       40 non-null     float64\n",
      " 3   f2       40 non-null     float64\n",
      " 4   product  40 non-null     float64\n",
      "dtypes: float64(4), object(1)\n",
      "memory usage: 1.7+ KB\n"
     ]
    }
   ],
   "source": [
    "df.info()"
   ],
   "metadata": {
    "collapsed": false,
    "pycharm": {
     "name": "#%%\n"
    }
   }
  },
  {
   "cell_type": "code",
   "execution_count": 140,
   "outputs": [
    {
     "data": {
      "text/plain": "              f0         f1         f2     product\ncount  40.000000  40.000000  40.000000   40.000000\nmean    2.077724  -4.821013   2.899393   79.675956\nstd     8.823711   4.101341   1.721036   46.426570\nmin   -15.001348 -13.659814  -0.007630    0.000000\n25%    -4.478392  -7.714120   2.002661   53.906522\n50%     2.460140  -4.793330   2.995529   84.038886\n75%     9.596212  -2.119299   4.250260  116.935687\nmax    16.320755   2.944454   5.004363  137.945408",
      "text/html": "<div>\n<style scoped>\n    .dataframe tbody tr th:only-of-type {\n        vertical-align: middle;\n    }\n\n    .dataframe tbody tr th {\n        vertical-align: top;\n    }\n\n    .dataframe thead th {\n        text-align: right;\n    }\n</style>\n<table border=\"1\" class=\"dataframe\">\n  <thead>\n    <tr style=\"text-align: right;\">\n      <th></th>\n      <th>f0</th>\n      <th>f1</th>\n      <th>f2</th>\n      <th>product</th>\n    </tr>\n  </thead>\n  <tbody>\n    <tr>\n      <th>count</th>\n      <td>40.000000</td>\n      <td>40.000000</td>\n      <td>40.000000</td>\n      <td>40.000000</td>\n    </tr>\n    <tr>\n      <th>mean</th>\n      <td>2.077724</td>\n      <td>-4.821013</td>\n      <td>2.899393</td>\n      <td>79.675956</td>\n    </tr>\n    <tr>\n      <th>std</th>\n      <td>8.823711</td>\n      <td>4.101341</td>\n      <td>1.721036</td>\n      <td>46.426570</td>\n    </tr>\n    <tr>\n      <th>min</th>\n      <td>-15.001348</td>\n      <td>-13.659814</td>\n      <td>-0.007630</td>\n      <td>0.000000</td>\n    </tr>\n    <tr>\n      <th>25%</th>\n      <td>-4.478392</td>\n      <td>-7.714120</td>\n      <td>2.002661</td>\n      <td>53.906522</td>\n    </tr>\n    <tr>\n      <th>50%</th>\n      <td>2.460140</td>\n      <td>-4.793330</td>\n      <td>2.995529</td>\n      <td>84.038886</td>\n    </tr>\n    <tr>\n      <th>75%</th>\n      <td>9.596212</td>\n      <td>-2.119299</td>\n      <td>4.250260</td>\n      <td>116.935687</td>\n    </tr>\n    <tr>\n      <th>max</th>\n      <td>16.320755</td>\n      <td>2.944454</td>\n      <td>5.004363</td>\n      <td>137.945408</td>\n    </tr>\n  </tbody>\n</table>\n</div>"
     },
     "execution_count": 140,
     "metadata": {},
     "output_type": "execute_result"
    }
   ],
   "source": [
    "df.describe()"
   ],
   "metadata": {
    "collapsed": false,
    "pycharm": {
     "name": "#%%\n"
    }
   }
  },
  {
   "cell_type": "code",
   "execution_count": 141,
   "outputs": [
    {
     "data": {
      "text/plain": "               f0        f1        f2   product\nf0       1.000000  0.381836  0.058398  0.030459\nf1       0.381836  1.000000 -0.150092 -0.167566\nf2       0.058398 -0.150092  1.000000  0.999405\nproduct  0.030459 -0.167566  0.999405  1.000000",
      "text/html": "<div>\n<style scoped>\n    .dataframe tbody tr th:only-of-type {\n        vertical-align: middle;\n    }\n\n    .dataframe tbody tr th {\n        vertical-align: top;\n    }\n\n    .dataframe thead th {\n        text-align: right;\n    }\n</style>\n<table border=\"1\" class=\"dataframe\">\n  <thead>\n    <tr style=\"text-align: right;\">\n      <th></th>\n      <th>f0</th>\n      <th>f1</th>\n      <th>f2</th>\n      <th>product</th>\n    </tr>\n  </thead>\n  <tbody>\n    <tr>\n      <th>f0</th>\n      <td>1.000000</td>\n      <td>0.381836</td>\n      <td>0.058398</td>\n      <td>0.030459</td>\n    </tr>\n    <tr>\n      <th>f1</th>\n      <td>0.381836</td>\n      <td>1.000000</td>\n      <td>-0.150092</td>\n      <td>-0.167566</td>\n    </tr>\n    <tr>\n      <th>f2</th>\n      <td>0.058398</td>\n      <td>-0.150092</td>\n      <td>1.000000</td>\n      <td>0.999405</td>\n    </tr>\n    <tr>\n      <th>product</th>\n      <td>0.030459</td>\n      <td>-0.167566</td>\n      <td>0.999405</td>\n      <td>1.000000</td>\n    </tr>\n  </tbody>\n</table>\n</div>"
     },
     "execution_count": 141,
     "metadata": {},
     "output_type": "execute_result"
    }
   ],
   "source": [
    "df.corr()"
   ],
   "metadata": {
    "collapsed": false,
    "pycharm": {
     "name": "#%%\n"
    }
   }
  },
  {
   "cell_type": "code",
   "execution_count": 142,
   "outputs": [
    {
     "data": {
      "text/plain": "       id     f0     f1     f2  product\n0   False  False  False  False    False\n1   False  False  False  False    False\n2   False  False  False  False    False\n3   False  False  False  False    False\n4   False  False  False  False    False\n5   False  False  False  False    False\n6   False  False  False  False    False\n7   False  False  False  False    False\n8   False  False  False  False    False\n9   False  False  False  False    False\n10  False  False  False  False    False\n11  False  False  False  False    False\n12  False  False  False  False    False\n13  False  False  False  False    False\n14  False  False  False  False    False\n15  False  False  False  False    False\n16  False  False  False  False    False\n17  False  False  False  False    False\n18  False  False  False  False    False\n19  False  False  False  False    False\n20  False  False  False  False    False\n21  False  False  False  False    False\n22  False  False  False  False    False\n23  False  False  False  False    False\n24  False  False  False  False    False\n25  False  False  False  False    False\n26  False  False  False  False    False\n27  False  False  False  False    False\n28  False  False  False  False    False\n29  False  False  False  False    False\n30  False  False  False  False    False\n31  False  False  False  False    False\n32  False  False  False  False    False\n33  False  False  False  False    False\n34  False  False  False  False    False\n35  False  False  False  False    False\n36  False  False  False  False    False\n37  False  False  False  False    False\n38  False  False  False  False    False\n39  False  False  False  False    False",
      "text/html": "<div>\n<style scoped>\n    .dataframe tbody tr th:only-of-type {\n        vertical-align: middle;\n    }\n\n    .dataframe tbody tr th {\n        vertical-align: top;\n    }\n\n    .dataframe thead th {\n        text-align: right;\n    }\n</style>\n<table border=\"1\" class=\"dataframe\">\n  <thead>\n    <tr style=\"text-align: right;\">\n      <th></th>\n      <th>id</th>\n      <th>f0</th>\n      <th>f1</th>\n      <th>f2</th>\n      <th>product</th>\n    </tr>\n  </thead>\n  <tbody>\n    <tr>\n      <th>0</th>\n      <td>False</td>\n      <td>False</td>\n      <td>False</td>\n      <td>False</td>\n      <td>False</td>\n    </tr>\n    <tr>\n      <th>1</th>\n      <td>False</td>\n      <td>False</td>\n      <td>False</td>\n      <td>False</td>\n      <td>False</td>\n    </tr>\n    <tr>\n      <th>2</th>\n      <td>False</td>\n      <td>False</td>\n      <td>False</td>\n      <td>False</td>\n      <td>False</td>\n    </tr>\n    <tr>\n      <th>3</th>\n      <td>False</td>\n      <td>False</td>\n      <td>False</td>\n      <td>False</td>\n      <td>False</td>\n    </tr>\n    <tr>\n      <th>4</th>\n      <td>False</td>\n      <td>False</td>\n      <td>False</td>\n      <td>False</td>\n      <td>False</td>\n    </tr>\n    <tr>\n      <th>5</th>\n      <td>False</td>\n      <td>False</td>\n      <td>False</td>\n      <td>False</td>\n      <td>False</td>\n    </tr>\n    <tr>\n      <th>6</th>\n      <td>False</td>\n      <td>False</td>\n      <td>False</td>\n      <td>False</td>\n      <td>False</td>\n    </tr>\n    <tr>\n      <th>7</th>\n      <td>False</td>\n      <td>False</td>\n      <td>False</td>\n      <td>False</td>\n      <td>False</td>\n    </tr>\n    <tr>\n      <th>8</th>\n      <td>False</td>\n      <td>False</td>\n      <td>False</td>\n      <td>False</td>\n      <td>False</td>\n    </tr>\n    <tr>\n      <th>9</th>\n      <td>False</td>\n      <td>False</td>\n      <td>False</td>\n      <td>False</td>\n      <td>False</td>\n    </tr>\n    <tr>\n      <th>10</th>\n      <td>False</td>\n      <td>False</td>\n      <td>False</td>\n      <td>False</td>\n      <td>False</td>\n    </tr>\n    <tr>\n      <th>11</th>\n      <td>False</td>\n      <td>False</td>\n      <td>False</td>\n      <td>False</td>\n      <td>False</td>\n    </tr>\n    <tr>\n      <th>12</th>\n      <td>False</td>\n      <td>False</td>\n      <td>False</td>\n      <td>False</td>\n      <td>False</td>\n    </tr>\n    <tr>\n      <th>13</th>\n      <td>False</td>\n      <td>False</td>\n      <td>False</td>\n      <td>False</td>\n      <td>False</td>\n    </tr>\n    <tr>\n      <th>14</th>\n      <td>False</td>\n      <td>False</td>\n      <td>False</td>\n      <td>False</td>\n      <td>False</td>\n    </tr>\n    <tr>\n      <th>15</th>\n      <td>False</td>\n      <td>False</td>\n      <td>False</td>\n      <td>False</td>\n      <td>False</td>\n    </tr>\n    <tr>\n      <th>16</th>\n      <td>False</td>\n      <td>False</td>\n      <td>False</td>\n      <td>False</td>\n      <td>False</td>\n    </tr>\n    <tr>\n      <th>17</th>\n      <td>False</td>\n      <td>False</td>\n      <td>False</td>\n      <td>False</td>\n      <td>False</td>\n    </tr>\n    <tr>\n      <th>18</th>\n      <td>False</td>\n      <td>False</td>\n      <td>False</td>\n      <td>False</td>\n      <td>False</td>\n    </tr>\n    <tr>\n      <th>19</th>\n      <td>False</td>\n      <td>False</td>\n      <td>False</td>\n      <td>False</td>\n      <td>False</td>\n    </tr>\n    <tr>\n      <th>20</th>\n      <td>False</td>\n      <td>False</td>\n      <td>False</td>\n      <td>False</td>\n      <td>False</td>\n    </tr>\n    <tr>\n      <th>21</th>\n      <td>False</td>\n      <td>False</td>\n      <td>False</td>\n      <td>False</td>\n      <td>False</td>\n    </tr>\n    <tr>\n      <th>22</th>\n      <td>False</td>\n      <td>False</td>\n      <td>False</td>\n      <td>False</td>\n      <td>False</td>\n    </tr>\n    <tr>\n      <th>23</th>\n      <td>False</td>\n      <td>False</td>\n      <td>False</td>\n      <td>False</td>\n      <td>False</td>\n    </tr>\n    <tr>\n      <th>24</th>\n      <td>False</td>\n      <td>False</td>\n      <td>False</td>\n      <td>False</td>\n      <td>False</td>\n    </tr>\n    <tr>\n      <th>25</th>\n      <td>False</td>\n      <td>False</td>\n      <td>False</td>\n      <td>False</td>\n      <td>False</td>\n    </tr>\n    <tr>\n      <th>26</th>\n      <td>False</td>\n      <td>False</td>\n      <td>False</td>\n      <td>False</td>\n      <td>False</td>\n    </tr>\n    <tr>\n      <th>27</th>\n      <td>False</td>\n      <td>False</td>\n      <td>False</td>\n      <td>False</td>\n      <td>False</td>\n    </tr>\n    <tr>\n      <th>28</th>\n      <td>False</td>\n      <td>False</td>\n      <td>False</td>\n      <td>False</td>\n      <td>False</td>\n    </tr>\n    <tr>\n      <th>29</th>\n      <td>False</td>\n      <td>False</td>\n      <td>False</td>\n      <td>False</td>\n      <td>False</td>\n    </tr>\n    <tr>\n      <th>30</th>\n      <td>False</td>\n      <td>False</td>\n      <td>False</td>\n      <td>False</td>\n      <td>False</td>\n    </tr>\n    <tr>\n      <th>31</th>\n      <td>False</td>\n      <td>False</td>\n      <td>False</td>\n      <td>False</td>\n      <td>False</td>\n    </tr>\n    <tr>\n      <th>32</th>\n      <td>False</td>\n      <td>False</td>\n      <td>False</td>\n      <td>False</td>\n      <td>False</td>\n    </tr>\n    <tr>\n      <th>33</th>\n      <td>False</td>\n      <td>False</td>\n      <td>False</td>\n      <td>False</td>\n      <td>False</td>\n    </tr>\n    <tr>\n      <th>34</th>\n      <td>False</td>\n      <td>False</td>\n      <td>False</td>\n      <td>False</td>\n      <td>False</td>\n    </tr>\n    <tr>\n      <th>35</th>\n      <td>False</td>\n      <td>False</td>\n      <td>False</td>\n      <td>False</td>\n      <td>False</td>\n    </tr>\n    <tr>\n      <th>36</th>\n      <td>False</td>\n      <td>False</td>\n      <td>False</td>\n      <td>False</td>\n      <td>False</td>\n    </tr>\n    <tr>\n      <th>37</th>\n      <td>False</td>\n      <td>False</td>\n      <td>False</td>\n      <td>False</td>\n      <td>False</td>\n    </tr>\n    <tr>\n      <th>38</th>\n      <td>False</td>\n      <td>False</td>\n      <td>False</td>\n      <td>False</td>\n      <td>False</td>\n    </tr>\n    <tr>\n      <th>39</th>\n      <td>False</td>\n      <td>False</td>\n      <td>False</td>\n      <td>False</td>\n      <td>False</td>\n    </tr>\n  </tbody>\n</table>\n</div>"
     },
     "execution_count": 142,
     "metadata": {},
     "output_type": "execute_result"
    }
   ],
   "source": [
    "df.isnull()"
   ],
   "metadata": {
    "collapsed": false,
    "pycharm": {
     "name": "#%%\n"
    }
   }
  },
  {
   "cell_type": "markdown",
   "source": [
    "# Creating model"
   ],
   "metadata": {
    "collapsed": false,
    "pycharm": {
     "name": "#%% md\n"
    }
   }
  },
  {
   "cell_type": "code",
   "execution_count": 143,
   "outputs": [],
   "source": [
    "region1_train = pd.read_csv(\"C:\\\\Users\\\\milan\\\\Documents\\\\BMSTU\\\\Modeling\\\\lab_4_place1_train.csv\")\n",
    "region2_train = pd.read_csv(\"C:\\\\Users\\\\milan\\\\Documents\\\\BMSTU\\\\Modeling\\\\lab_4_place2_train.csv\")\n",
    "region3_train = pd.read_csv(\"C:\\\\Users\\\\milan\\\\Documents\\\\BMSTU\\\\Modeling\\\\lab_4_place3_train.csv\")\n",
    "\n",
    "region1_test = pd.read_csv(\"C:\\\\Users\\\\milan\\\\Documents\\\\BMSTU\\\\Modeling\\\\lab_4_place1_test.csv\")\n",
    "region2_test = pd.read_csv(\"C:\\\\Users\\\\milan\\\\Documents\\\\BMSTU\\\\Modeling\\\\lab_4_place2_test.csv\")\n",
    "region3_test = pd.read_csv(\"C:\\\\Users\\\\milan\\\\Documents\\\\BMSTU\\\\Modeling\\\\lab_4_place3_test.csv\")"
   ],
   "metadata": {
    "collapsed": false,
    "pycharm": {
     "name": "#%%\n"
    }
   }
  },
  {
   "cell_type": "code",
   "execution_count": 144,
   "outputs": [],
   "source": [
    "from sklearn.model_selection import train_test_split\n",
    "from sklearn.metrics import mean_squared_error\n",
    "from sklearn.linear_model import LinearRegression\n",
    "from sklearn.preprocessing import StandardScaler\n",
    "\n",
    "RANDOM_STATE = np.random.RandomState(100)\n",
    "\n",
    "DATASET_SIZE = 41\n",
    "CONCEIVED_SIZE = 500\n",
    "REGION_BUDGET = math.floor(10_000_000_000 / CONCEIVED_SIZE * DATASET_SIZE)\n",
    "DROPOUT_LIMIT = math.floor(200 / CONCEIVED_SIZE * DATASET_SIZE)\n",
    "PROFIT_PER_T_BARREL = 450000\n",
    "ACCEPTABLE_RISK = 0.025\n",
    "TARGET = 'product'\n",
    "\n",
    "\n",
    "SUFFICIENT_VOLUME = REGION_BUDGET / DROPOUT_LIMIT / PROFIT_PER_T_BARREL\n",
    "\n",
    "def get_features(data, scaler = None):\n",
    "    result = data[['f0', 'f1', 'f2']]\n",
    "    if scaler is not None:\n",
    "        result = scaler.transform(result)\n",
    "    return result\n",
    "\n",
    "def get_model_and_scaler(data):\n",
    "    target = data[TARGET]\n",
    "    features = get_features(df)\n",
    "    features_train, features_valid, target_train, target_valid = train_test_split(features, target, test_size=0.25, random_state=RANDOM_STATE)\n",
    "    scaler = StandardScaler()\n",
    "    scaler.fit(features_train)\n",
    "    features_train = scaler.transform(features_train)\n",
    "    features_valid = scaler.transform(features_valid)\n",
    "    linear_regression = LinearRegression()\n",
    "    linear_regression.fit(features_train, target_train)\n",
    "\n",
    "    predictions_valid = linear_regression.predict(features_valid)\n",
    "    err = mean_squared_error(target_valid, predictions_valid, squared=False)\n",
    "    print(f\"RMSE модели: {err:.2f}\")\n",
    "    return linear_regression, scaler\n",
    "\n",
    "def get_region_info(train_data, test_data):\n",
    "    model, scaler = get_model_and_scaler(train_data)\n",
    "    test_data['predictions'] = model.predict(get_features(test_data, scaler))\n",
    "    best_well = test_data.sort_values(by='predictions', ascending=False)[:DROPOUT_LIMIT]\n",
    "    # print(\"Выбранные скважины: \", best_well['id'].values)\n",
    "    print(f\"Средний объем добычи с одной скважины: {best_well[TARGET].mean():_}\")\n",
    "    profit = PROFIT_PER_T_BARREL * best_well[TARGET].sum() - REGION_BUDGET\n",
    "    print(f\"Прибыль региона: {profit:_}\")\n",
    "    bootstrap_results = []\n",
    "    for i in range(100):\n",
    "        sample = test_data.sample(frac=0.9, random_state=RANDOM_STATE, replace=False)\n",
    "        best_of_sample = sample.sort_values(by='predictions', ascending=False)[:DROPOUT_LIMIT]\n",
    "        sample_profit = PROFIT_PER_T_BARREL * best_of_sample[TARGET].sum() - REGION_BUDGET\n",
    "        bootstrap_results.append(sample_profit)\n",
    "    bootstrap_results = pd.Series(bootstrap_results)\n",
    "    # print(bootstrap_results)\n",
    "    mean = bootstrap_results.mean() #расчет средней прибыли\n",
    "    print(f\"Средняя прибыль, руб.: {mean:_.2f}\")\n",
    "    lower = bootstrap_results.quantile(.025) #строим доверительный интервал\n",
    "    upper = bootstrap_results.quantile(.975)\n",
    "    print(f\"95% доверительный интервал: {lower:_.2f} : {upper:_.2f}\")\n",
    "    risk = bootstrap_results[bootstrap_results < 0].size / bootstrap_results.size * 100\n",
    "    print(f\"Риск убытков в данном регионе: {risk:.2f}%\")\n",
    "    return test_data\n",
    "\n",
    "\n",
    "\n",
    "\n",
    "\n"
   ],
   "metadata": {
    "collapsed": false,
    "pycharm": {
     "name": "#%%\n"
    }
   }
  },
  {
   "cell_type": "code",
   "execution_count": 145,
   "outputs": [
    {
     "name": "stdout",
     "output_type": "stream",
     "text": [
      "Минимальная средняя продуктивность скважины для достижения порога окупаемости: 113.88888888888889\n",
      "\n",
      "Первый регион\n",
      "RMSE модели: 0.83\n",
      "Средний объем добычи с одной скважины: 117.6259535625\n",
      "Прибыль региона: 26_906_865.649999976\n",
      "Средняя прибыль, руб.: 40_781_822.56\n",
      "95% доверительный интервал: 11_677_508.90 : 87_689_459.68\n",
      "Риск убытков в данном регионе: 0.00%\n",
      "\n",
      "Второй регион\n",
      "RMSE модели: 57.49\n",
      "Средний объем добычи с одной скважины: 65.69857368749999\n",
      "Прибыль региона: -346_970_269.4500001\n",
      "Средняя прибыль, руб.: -370_107_985.35\n",
      "95% доверительный интервал: -419_744_074.15 : -334_841_302.00\n",
      "Риск убытков в данном регионе: 100.00%\n",
      "\n",
      "Третий регион\n",
      "RMSE модели: 41.28\n",
      "Средний объем добычи с одной скважины: 112.239704875\n",
      "Прибыль региона: -11_874_124.899999976\n",
      "Средняя прибыль, руб.: -26_822_023.89\n",
      "95% доверительный интервал: -80_225_987.22 : 5_405_376.41\n",
      "Риск убытков в данном регионе: 94.00%\n"
     ]
    }
   ],
   "source": [
    "print(f\"Минимальная средняя продуктивность скважины для достижения порога окупаемости: {SUFFICIENT_VOLUME}\")\n",
    "print(\"\\nПервый регион\")\n",
    "a = get_region_info(region1_train, region1_test)\n",
    "print(\"\\nВторой регион\")\n",
    "b = get_region_info(region2_train, region2_test)\n",
    "print(\"\\nТретий регион\")\n",
    "c = get_region_info(region3_train, region3_test)\n"
   ],
   "metadata": {
    "collapsed": false,
    "pycharm": {
     "name": "#%%\n"
    }
   }
  },
  {
   "cell_type": "code",
   "execution_count": 148,
   "outputs": [
    {
     "data": {
      "text/plain": "       id        f0        f1        f2     product  predictions\n0   V3Iux  0.415711 -0.107657  2.942731  175.967570    80.752375\n1   lUMXX  0.107308 -0.062418 -1.686659   52.846211   -44.131802\n2   dqCXo -0.984753  0.152605  0.730856   36.592236    21.235612\n3   ET3QY -0.551515  0.770938  9.833564  160.476426   266.765739\n4   K0xka  2.095151  0.348512  6.898868   26.926149   187.247853\n5   5iB1B  0.603504 -0.265863  2.096468   57.089085    57.902426\n6   j706S -0.655023  0.731379  5.322069  122.778809   145.041449\n7   ewfDM  0.735073 -0.392385 -1.443289   31.610146   -37.625235\n8   hK6Wy  1.759622 -0.022698  3.371435  161.827815    92.133471\n9   nHY0C  1.494431 -0.324409  2.474772   56.590313    67.994972\n10  icz3s -0.122575  0.482920  1.755270   50.168281    48.738874\n11  IlEdO  1.925397  0.236353 -0.971412  101.406367   -25.097878\n12  IV3Gy  0.278395 -0.184231  0.488037  122.860656    14.537383\n13  k52cq  1.025913 -0.502227  1.029092  157.684787    29.059863\n14  7vR9a  0.906346  0.331243  4.783364  127.802709   130.323230\n15  iX3tl  0.160578 -0.083049  2.180773  144.593288    60.223813\n16  e8Fcw  1.527045 -0.284855  3.502897   96.504996    95.731299\n17  CRiAE -0.551567  0.661770  7.979481  112.389503   216.741885\n18  6V8lK -0.388384  0.722617  4.099129  102.190078   112.005531\n19  1qIFc  0.967878  0.236757  4.454778  105.767494   121.455011\n20  AZQ7C  0.703615  0.927108 -1.085226   51.185681   -28.054519\n21  FxFhi -0.856488  0.491881  1.560054   29.627803    43.569324\n22  NwUaK  0.454865  0.688218  2.144651  143.162634    59.153446\n23  1MnJQ  0.150383  1.118132  0.673233   69.820169    19.457602\n24  StWgm  0.241720  0.942147  2.290609  157.901330    63.102383\n25  nwJH5  1.543892 -0.204474  2.108907   56.711111    58.106864\n26  t02tS  0.206934  0.837325  6.343240  130.458019   172.473507\n27  vTass  1.004799  0.539763  6.592556  147.716278   179.115243\n28  RDRhf -0.871101  0.555576  5.963964  125.139333   162.404644\n29  Aa0Ne  0.068668  0.412684  3.049826   89.944929    83.651329\n30  uQHju -0.169592  0.988432  5.153578  121.253686   140.410689\n31  5aJ79 -0.880711  0.173065  6.962537  152.614843   189.379834\n32  vgK5D  0.637601  0.751503  2.918322   95.180855    80.001462\n33  sOhIk -0.176367  0.912145  5.241132   89.619662   142.779751\n34  hWIah  1.562007 -0.311641  1.315442   50.092191    36.700822\n35  DLsed  0.971957  0.370953  6.075346  110.744026   165.175186\n36  QKivN  1.392429 -0.382606  1.273912  122.346843    35.608158\n37  3rnvd  1.029585  0.018787 -1.348308   64.375443   -35.131739\n38  7kl59  0.998163 -0.528582  1.583869   74.040764    44.035979\n39  1CWhH  1.764754 -0.266417  5.722849  149.633246   155.602545",
      "text/html": "<div>\n<style scoped>\n    .dataframe tbody tr th:only-of-type {\n        vertical-align: middle;\n    }\n\n    .dataframe tbody tr th {\n        vertical-align: top;\n    }\n\n    .dataframe thead th {\n        text-align: right;\n    }\n</style>\n<table border=\"1\" class=\"dataframe\">\n  <thead>\n    <tr style=\"text-align: right;\">\n      <th></th>\n      <th>id</th>\n      <th>f0</th>\n      <th>f1</th>\n      <th>f2</th>\n      <th>product</th>\n      <th>predictions</th>\n    </tr>\n  </thead>\n  <tbody>\n    <tr>\n      <th>0</th>\n      <td>V3Iux</td>\n      <td>0.415711</td>\n      <td>-0.107657</td>\n      <td>2.942731</td>\n      <td>175.967570</td>\n      <td>80.752375</td>\n    </tr>\n    <tr>\n      <th>1</th>\n      <td>lUMXX</td>\n      <td>0.107308</td>\n      <td>-0.062418</td>\n      <td>-1.686659</td>\n      <td>52.846211</td>\n      <td>-44.131802</td>\n    </tr>\n    <tr>\n      <th>2</th>\n      <td>dqCXo</td>\n      <td>-0.984753</td>\n      <td>0.152605</td>\n      <td>0.730856</td>\n      <td>36.592236</td>\n      <td>21.235612</td>\n    </tr>\n    <tr>\n      <th>3</th>\n      <td>ET3QY</td>\n      <td>-0.551515</td>\n      <td>0.770938</td>\n      <td>9.833564</td>\n      <td>160.476426</td>\n      <td>266.765739</td>\n    </tr>\n    <tr>\n      <th>4</th>\n      <td>K0xka</td>\n      <td>2.095151</td>\n      <td>0.348512</td>\n      <td>6.898868</td>\n      <td>26.926149</td>\n      <td>187.247853</td>\n    </tr>\n    <tr>\n      <th>5</th>\n      <td>5iB1B</td>\n      <td>0.603504</td>\n      <td>-0.265863</td>\n      <td>2.096468</td>\n      <td>57.089085</td>\n      <td>57.902426</td>\n    </tr>\n    <tr>\n      <th>6</th>\n      <td>j706S</td>\n      <td>-0.655023</td>\n      <td>0.731379</td>\n      <td>5.322069</td>\n      <td>122.778809</td>\n      <td>145.041449</td>\n    </tr>\n    <tr>\n      <th>7</th>\n      <td>ewfDM</td>\n      <td>0.735073</td>\n      <td>-0.392385</td>\n      <td>-1.443289</td>\n      <td>31.610146</td>\n      <td>-37.625235</td>\n    </tr>\n    <tr>\n      <th>8</th>\n      <td>hK6Wy</td>\n      <td>1.759622</td>\n      <td>-0.022698</td>\n      <td>3.371435</td>\n      <td>161.827815</td>\n      <td>92.133471</td>\n    </tr>\n    <tr>\n      <th>9</th>\n      <td>nHY0C</td>\n      <td>1.494431</td>\n      <td>-0.324409</td>\n      <td>2.474772</td>\n      <td>56.590313</td>\n      <td>67.994972</td>\n    </tr>\n    <tr>\n      <th>10</th>\n      <td>icz3s</td>\n      <td>-0.122575</td>\n      <td>0.482920</td>\n      <td>1.755270</td>\n      <td>50.168281</td>\n      <td>48.738874</td>\n    </tr>\n    <tr>\n      <th>11</th>\n      <td>IlEdO</td>\n      <td>1.925397</td>\n      <td>0.236353</td>\n      <td>-0.971412</td>\n      <td>101.406367</td>\n      <td>-25.097878</td>\n    </tr>\n    <tr>\n      <th>12</th>\n      <td>IV3Gy</td>\n      <td>0.278395</td>\n      <td>-0.184231</td>\n      <td>0.488037</td>\n      <td>122.860656</td>\n      <td>14.537383</td>\n    </tr>\n    <tr>\n      <th>13</th>\n      <td>k52cq</td>\n      <td>1.025913</td>\n      <td>-0.502227</td>\n      <td>1.029092</td>\n      <td>157.684787</td>\n      <td>29.059863</td>\n    </tr>\n    <tr>\n      <th>14</th>\n      <td>7vR9a</td>\n      <td>0.906346</td>\n      <td>0.331243</td>\n      <td>4.783364</td>\n      <td>127.802709</td>\n      <td>130.323230</td>\n    </tr>\n    <tr>\n      <th>15</th>\n      <td>iX3tl</td>\n      <td>0.160578</td>\n      <td>-0.083049</td>\n      <td>2.180773</td>\n      <td>144.593288</td>\n      <td>60.223813</td>\n    </tr>\n    <tr>\n      <th>16</th>\n      <td>e8Fcw</td>\n      <td>1.527045</td>\n      <td>-0.284855</td>\n      <td>3.502897</td>\n      <td>96.504996</td>\n      <td>95.731299</td>\n    </tr>\n    <tr>\n      <th>17</th>\n      <td>CRiAE</td>\n      <td>-0.551567</td>\n      <td>0.661770</td>\n      <td>7.979481</td>\n      <td>112.389503</td>\n      <td>216.741885</td>\n    </tr>\n    <tr>\n      <th>18</th>\n      <td>6V8lK</td>\n      <td>-0.388384</td>\n      <td>0.722617</td>\n      <td>4.099129</td>\n      <td>102.190078</td>\n      <td>112.005531</td>\n    </tr>\n    <tr>\n      <th>19</th>\n      <td>1qIFc</td>\n      <td>0.967878</td>\n      <td>0.236757</td>\n      <td>4.454778</td>\n      <td>105.767494</td>\n      <td>121.455011</td>\n    </tr>\n    <tr>\n      <th>20</th>\n      <td>AZQ7C</td>\n      <td>0.703615</td>\n      <td>0.927108</td>\n      <td>-1.085226</td>\n      <td>51.185681</td>\n      <td>-28.054519</td>\n    </tr>\n    <tr>\n      <th>21</th>\n      <td>FxFhi</td>\n      <td>-0.856488</td>\n      <td>0.491881</td>\n      <td>1.560054</td>\n      <td>29.627803</td>\n      <td>43.569324</td>\n    </tr>\n    <tr>\n      <th>22</th>\n      <td>NwUaK</td>\n      <td>0.454865</td>\n      <td>0.688218</td>\n      <td>2.144651</td>\n      <td>143.162634</td>\n      <td>59.153446</td>\n    </tr>\n    <tr>\n      <th>23</th>\n      <td>1MnJQ</td>\n      <td>0.150383</td>\n      <td>1.118132</td>\n      <td>0.673233</td>\n      <td>69.820169</td>\n      <td>19.457602</td>\n    </tr>\n    <tr>\n      <th>24</th>\n      <td>StWgm</td>\n      <td>0.241720</td>\n      <td>0.942147</td>\n      <td>2.290609</td>\n      <td>157.901330</td>\n      <td>63.102383</td>\n    </tr>\n    <tr>\n      <th>25</th>\n      <td>nwJH5</td>\n      <td>1.543892</td>\n      <td>-0.204474</td>\n      <td>2.108907</td>\n      <td>56.711111</td>\n      <td>58.106864</td>\n    </tr>\n    <tr>\n      <th>26</th>\n      <td>t02tS</td>\n      <td>0.206934</td>\n      <td>0.837325</td>\n      <td>6.343240</td>\n      <td>130.458019</td>\n      <td>172.473507</td>\n    </tr>\n    <tr>\n      <th>27</th>\n      <td>vTass</td>\n      <td>1.004799</td>\n      <td>0.539763</td>\n      <td>6.592556</td>\n      <td>147.716278</td>\n      <td>179.115243</td>\n    </tr>\n    <tr>\n      <th>28</th>\n      <td>RDRhf</td>\n      <td>-0.871101</td>\n      <td>0.555576</td>\n      <td>5.963964</td>\n      <td>125.139333</td>\n      <td>162.404644</td>\n    </tr>\n    <tr>\n      <th>29</th>\n      <td>Aa0Ne</td>\n      <td>0.068668</td>\n      <td>0.412684</td>\n      <td>3.049826</td>\n      <td>89.944929</td>\n      <td>83.651329</td>\n    </tr>\n    <tr>\n      <th>30</th>\n      <td>uQHju</td>\n      <td>-0.169592</td>\n      <td>0.988432</td>\n      <td>5.153578</td>\n      <td>121.253686</td>\n      <td>140.410689</td>\n    </tr>\n    <tr>\n      <th>31</th>\n      <td>5aJ79</td>\n      <td>-0.880711</td>\n      <td>0.173065</td>\n      <td>6.962537</td>\n      <td>152.614843</td>\n      <td>189.379834</td>\n    </tr>\n    <tr>\n      <th>32</th>\n      <td>vgK5D</td>\n      <td>0.637601</td>\n      <td>0.751503</td>\n      <td>2.918322</td>\n      <td>95.180855</td>\n      <td>80.001462</td>\n    </tr>\n    <tr>\n      <th>33</th>\n      <td>sOhIk</td>\n      <td>-0.176367</td>\n      <td>0.912145</td>\n      <td>5.241132</td>\n      <td>89.619662</td>\n      <td>142.779751</td>\n    </tr>\n    <tr>\n      <th>34</th>\n      <td>hWIah</td>\n      <td>1.562007</td>\n      <td>-0.311641</td>\n      <td>1.315442</td>\n      <td>50.092191</td>\n      <td>36.700822</td>\n    </tr>\n    <tr>\n      <th>35</th>\n      <td>DLsed</td>\n      <td>0.971957</td>\n      <td>0.370953</td>\n      <td>6.075346</td>\n      <td>110.744026</td>\n      <td>165.175186</td>\n    </tr>\n    <tr>\n      <th>36</th>\n      <td>QKivN</td>\n      <td>1.392429</td>\n      <td>-0.382606</td>\n      <td>1.273912</td>\n      <td>122.346843</td>\n      <td>35.608158</td>\n    </tr>\n    <tr>\n      <th>37</th>\n      <td>3rnvd</td>\n      <td>1.029585</td>\n      <td>0.018787</td>\n      <td>-1.348308</td>\n      <td>64.375443</td>\n      <td>-35.131739</td>\n    </tr>\n    <tr>\n      <th>38</th>\n      <td>7kl59</td>\n      <td>0.998163</td>\n      <td>-0.528582</td>\n      <td>1.583869</td>\n      <td>74.040764</td>\n      <td>44.035979</td>\n    </tr>\n    <tr>\n      <th>39</th>\n      <td>1CWhH</td>\n      <td>1.764754</td>\n      <td>-0.266417</td>\n      <td>5.722849</td>\n      <td>149.633246</td>\n      <td>155.602545</td>\n    </tr>\n  </tbody>\n</table>\n</div>"
     },
     "execution_count": 148,
     "metadata": {},
     "output_type": "execute_result"
    }
   ],
   "source": [
    "a #перемешать обучающую и тестирующие выборки"
   ],
   "metadata": {
    "collapsed": false,
    "pycharm": {
     "name": "#%%\n"
    }
   }
  },
  {
   "cell_type": "code",
   "execution_count": 146,
   "outputs": [
    {
     "data": {
      "text/plain": "67.84887464150232"
     },
     "execution_count": 146,
     "metadata": {},
     "output_type": "execute_result"
    }
   ],
   "source": [
    "mean_squared_error(a[TARGET], a['predictions'], squared=False)"
   ],
   "metadata": {
    "collapsed": false,
    "pycharm": {
     "name": "#%%\n"
    }
   }
  },
  {
   "cell_type": "markdown",
   "source": [
    "# Черновики"
   ],
   "metadata": {
    "collapsed": false,
    "pycharm": {
     "name": "#%% md\n"
    }
   }
  },
  {
   "cell_type": "code",
   "execution_count": 147,
   "outputs": [
    {
     "name": "stdout",
     "output_type": "stream",
     "text": [
      "Минимальная средняя продуктивность скважины для достижения порога окупаемости: 111.1 (тыс. баррелей)\n"
     ]
    }
   ],
   "source": [
    "'''Подготовьтесь к расчёту прибыли:\n",
    "1. Все ключевые значения для расчётов сохраните в отдельных переменных.\n",
    "2. Рассчитайте достаточный объём сырья для безубыточной разработки новой\n",
    "скважины. Сравните полученный объём сырья со средним запасом в каждом\n",
    "регионе.\n",
    "3. Сделайте выводы по этапу подготовки расчёта прибыли.'''\n",
    "#Определим ряд констант, необходимых для исследования\n",
    "COSTS = 10**7 #бюджет на разработку\n",
    "INCOME = 450 #доход с одного бареля нефти\n",
    "COUNT_REGION = 10 #количество исследуемых точек в одном регионе\n",
    "BOREHOLES = 200 #количество выбранных скважин для разработки месторождения\n",
    "loss_threshold = COSTS/(BOREHOLES*INCOME) #Минимальная средняя продуктивность скважины для достижения порога окупаемости\n",
    "region_threshold = round(BOREHOLES*loss_threshold,1) #Минимальная продуктивность 200 скважин региона для достижения порога окупаемости\n",
    "print('Минимальная средняя продуктивность скважины для достижения порога окупаемости:', round(loss_threshold,1), '(тыс. баррелей)')\n",
    "\n",
    "'''\n",
    "Напишите функцию для расчёта прибыли по выбранным скважинам и предсказаниям\n",
    "модели:\n",
    "1. Выберите скважины с максимальными значениями предсказаний.\n",
    "2. Просуммируйте целевое значение объёма сырья, соответствующее этим\n",
    "предсказаниям.\n",
    "3. Рассчитайте прибыль для полученного объёма сырья.\n",
    "'''\n",
    "#Рассчитать прибыль для полученного объёма сырья\n",
    "#функция для расчета прибыли\n",
    "def profit(target, predictions, count):\n",
    "    #выбираем скважины с максимальными значениями предсказаний, число скажин в переменной count\n",
    "    best_pred = pd.Series(predictions).sort_values(ascending=False)[:count]\n",
    "    best_target = target.reset_index(drop = True)[best_pred.index]\n",
    "    profit = INCOME * best_target.sum() - COSTS\n",
    "    return profit # прибыль для полученного объёма сырья.\n",
    "\n",
    "# print(\"Прибыль в первой локации:\", profit(target_valid_1, predictions_valid_1, BOREHOLES).round(),'рублей')\n",
    "# print(\"Прибыль во второй локации:\", profit(target_valid_2, predictions_valid_2, BOREHOLES).round(),'рублей')\n",
    "# print(\"Прибыль в третьей локации:\", profit(target_valid_3, predictions_valid_3, BOREHOLES).round(),'рублей')\n",
    "\n",
    "'''\n",
    "Посчитайте риски и прибыль для каждого региона:\n",
    "1. Найти распределение прибыли. Выборки небольшие, поэтому есть смысл\n",
    "использовать технологию bootstrap\n",
    "2. Найдите среднюю прибыль, 95%-й доверительный интервал и риск убытков.\n",
    "Убыток — это отрицательная прибыль.\n",
    "3. Напишите выводы: предложите регион для разработки скважин и обоснуйте\n",
    "выбор.\n",
    "'''\n",
    "\n",
    "state = np.random.RandomState(12345) #обеспечим случайность формируемых выборок\n",
    "\n",
    "def region_profit(target, predictions, count = 4):\n",
    "    values = []\n",
    "    for i in range(1000):\n",
    "        target_sample = target.reset_index(drop=True).sample(COUNT_REGION, replace=False,\n",
    "                                         random_state=state) #\n",
    "        probs_sample = predictions[target_sample.index]\n",
    "        best_pred = pd.Series(probs_sample).sort_values(ascending=False)[:count] #выбираем месторождения с лучшими показателями\n",
    "        best_target = target_sample.reset_index(drop=True)[best_pred.index]\n",
    "\n",
    "        profit = INCOME * best_target.sum() - COSTS #расчет прибыли\n",
    "        values.append(profit)\n",
    "\n",
    "    values = pd.Series(values)\n",
    "    mean = values.mean() #расчет средней прибыли\n",
    "    print('Средняя прибыль, руб.: {:,.2f}'.format(mean))\n",
    "\n",
    "    lower = values.quantile(.025) #строим доверительный интервал\n",
    "    upper = values.quantile(.975)\n",
    "\n",
    "    print('95% доверительный интервал:', '{:,.2f}'.format(lower), ':',\n",
    "          '{:,.2f}'.format(upper))\n",
    "\n"
   ],
   "metadata": {
    "collapsed": false,
    "pycharm": {
     "name": "#%%\n"
    }
   }
  }
 ],
 "metadata": {
  "kernelspec": {
   "display_name": "Python 3",
   "language": "python",
   "name": "python3"
  },
  "language_info": {
   "codemirror_mode": {
    "name": "ipython",
    "version": 2
   },
   "file_extension": ".py",
   "mimetype": "text/x-python",
   "name": "python",
   "nbconvert_exporter": "python",
   "pygments_lexer": "ipython2",
   "version": "2.7.6"
  }
 },
 "nbformat": 4,
 "nbformat_minor": 0
}